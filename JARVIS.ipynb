{
  "nbformat": 4,
  "nbformat_minor": 0,
  "metadata": {
    "colab": {
      "provenance": []
    },
    "kernelspec": {
      "name": "python3",
      "display_name": "Python 3"
    },
    "language_info": {
      "name": "python"
    }
  },
  "cells": [
    {
      "cell_type": "code",
      "source": [
        "!pip install pyttsx3"
      ],
      "metadata": {
        "colab": {
          "base_uri": "https://localhost:8080/"
        },
        "id": "9kf18tjkoiCY",
        "outputId": "9caeafb2-f6f3-4a36-fab3-0aac8fadd842"
      },
      "execution_count": null,
      "outputs": [
        {
          "output_type": "stream",
          "name": "stdout",
          "text": [
            "Collecting pyttsx3\n",
            "  Downloading pyttsx3-2.90-py3-none-any.whl (39 kB)\n",
            "Installing collected packages: pyttsx3\n",
            "Successfully installed pyttsx3-2.90\n"
          ]
        }
      ]
    },
    {
      "cell_type": "code",
      "source": [
        "!pip install speechRecognition"
      ],
      "metadata": {
        "colab": {
          "base_uri": "https://localhost:8080/"
        },
        "id": "Vu8gaJCFopTi",
        "outputId": "6549ef0d-bf63-4b30-d2a3-4bbbfaae1374"
      },
      "execution_count": null,
      "outputs": [
        {
          "output_type": "stream",
          "name": "stdout",
          "text": [
            "Collecting speechRecognition\n",
            "  Downloading SpeechRecognition-3.10.0-py2.py3-none-any.whl (32.8 MB)\n",
            "\u001b[2K     \u001b[90m━━━━━━━━━━━━━━━━━━━━━━━━━━━━━━━━━━━━━━━━\u001b[0m \u001b[32m32.8/32.8 MB\u001b[0m \u001b[31m43.9 MB/s\u001b[0m eta \u001b[36m0:00:00\u001b[0m\n",
            "\u001b[?25hRequirement already satisfied: requests>=2.26.0 in /usr/local/lib/python3.10/dist-packages (from speechRecognition) (2.27.1)\n",
            "Requirement already satisfied: urllib3<1.27,>=1.21.1 in /usr/local/lib/python3.10/dist-packages (from requests>=2.26.0->speechRecognition) (1.26.16)\n",
            "Requirement already satisfied: certifi>=2017.4.17 in /usr/local/lib/python3.10/dist-packages (from requests>=2.26.0->speechRecognition) (2023.7.22)\n",
            "Requirement already satisfied: charset-normalizer~=2.0.0 in /usr/local/lib/python3.10/dist-packages (from requests>=2.26.0->speechRecognition) (2.0.12)\n",
            "Requirement already satisfied: idna<4,>=2.5 in /usr/local/lib/python3.10/dist-packages (from requests>=2.26.0->speechRecognition) (3.4)\n",
            "Installing collected packages: speechRecognition\n",
            "Successfully installed speechRecognition-3.10.0\n"
          ]
        }
      ]
    },
    {
      "cell_type": "code",
      "source": [
        "!pip install wikipedia"
      ],
      "metadata": {
        "colab": {
          "base_uri": "https://localhost:8080/"
        },
        "id": "m1C6ivuvow5m",
        "outputId": "381f9c83-6c87-4d07-adec-0db9eadf0472"
      },
      "execution_count": null,
      "outputs": [
        {
          "output_type": "stream",
          "name": "stdout",
          "text": [
            "Collecting wikipedia\n",
            "  Downloading wikipedia-1.4.0.tar.gz (27 kB)\n",
            "  Preparing metadata (setup.py) ... \u001b[?25l\u001b[?25hdone\n",
            "Requirement already satisfied: beautifulsoup4 in /usr/local/lib/python3.10/dist-packages (from wikipedia) (4.11.2)\n",
            "Requirement already satisfied: requests<3.0.0,>=2.0.0 in /usr/local/lib/python3.10/dist-packages (from wikipedia) (2.27.1)\n",
            "Requirement already satisfied: urllib3<1.27,>=1.21.1 in /usr/local/lib/python3.10/dist-packages (from requests<3.0.0,>=2.0.0->wikipedia) (1.26.16)\n",
            "Requirement already satisfied: certifi>=2017.4.17 in /usr/local/lib/python3.10/dist-packages (from requests<3.0.0,>=2.0.0->wikipedia) (2023.7.22)\n",
            "Requirement already satisfied: charset-normalizer~=2.0.0 in /usr/local/lib/python3.10/dist-packages (from requests<3.0.0,>=2.0.0->wikipedia) (2.0.12)\n",
            "Requirement already satisfied: idna<4,>=2.5 in /usr/local/lib/python3.10/dist-packages (from requests<3.0.0,>=2.0.0->wikipedia) (3.4)\n",
            "Requirement already satisfied: soupsieve>1.2 in /usr/local/lib/python3.10/dist-packages (from beautifulsoup4->wikipedia) (2.4.1)\n",
            "Building wheels for collected packages: wikipedia\n",
            "  Building wheel for wikipedia (setup.py) ... \u001b[?25l\u001b[?25hdone\n",
            "  Created wheel for wikipedia: filename=wikipedia-1.4.0-py3-none-any.whl size=11680 sha256=f3422b8d483aa98214208bf8218acb0360dcf6e2f3d4c2e62eded3b020edc9b9\n",
            "  Stored in directory: /root/.cache/pip/wheels/5e/b6/c5/93f3dec388ae76edc830cb42901bb0232504dfc0df02fc50de\n",
            "Successfully built wikipedia\n",
            "Installing collected packages: wikipedia\n",
            "Successfully installed wikipedia-1.4.0\n"
          ]
        }
      ]
    },
    {
      "cell_type": "code",
      "execution_count": null,
      "metadata": {
        "id": "Niz9qLMFoNn8"
      },
      "outputs": [],
      "source": [
        "import pyttsx3 #pip install pyttsx3\n",
        "import speech_recognition as sr #pip install speechRecognition\n",
        "import datetime\n",
        "import wikipedia #pip install wikipedia\n",
        "import webbrowser\n",
        "import os\n",
        "import smtplib\n",
        "\n",
        "engine = pyttsx3.init('sapi5')\n",
        "voices = engine.getProperty('voices')\n",
        "# print(voices[1].id)\n",
        "engine.setProperty('voice', voices[0].id)\n",
        "\n",
        "\n",
        "def speak(audio):\n",
        "    engine.say(audio)\n",
        "    engine.runAndWait()\n",
        "\n",
        "\n",
        "def wishMe():\n",
        "    hour = int(datetime.datetime.now().hour)\n",
        "    if hour>=0 and hour<12:\n",
        "        speak(\"Good Morning!\")\n",
        "\n",
        "    elif hour>=12 and hour<18:\n",
        "        speak(\"Good Afternoon!\")\n",
        "\n",
        "    else:\n",
        "        speak(\"Good Evening!\")\n",
        "\n",
        "    speak(\"I am Jarvis Sir. Please tell me how may I help you\")\n",
        "\n",
        "def takeCommand():\n",
        "    #It takes microphone input from the user and returns string output\n",
        "\n",
        "    r = sr.Recognizer()\n",
        "    with sr.Microphone() as source:\n",
        "        print(\"Listening...\")\n",
        "        r.pause_threshold = 1\n",
        "        audio = r.listen(source)\n",
        "\n",
        "    try:\n",
        "        print(\"Recognizing...\")\n",
        "        query = r.recognize_google(audio, language='en-in')\n",
        "        print(f\"User said: {query}\\n\")\n",
        "\n",
        "    except Exception as e:\n",
        "        # print(e)\n",
        "        print(\"Say that again please...\")\n",
        "        return \"None\"\n",
        "    return query\n",
        "\n",
        "def sendEmail(to, content):\n",
        "    server = smtplib.SMTP('smtp.gmail.com', 587)\n",
        "    server.ehlo()\n",
        "    server.starttls()\n",
        "    server.login('youremail@gmail.com', 'your-password')\n",
        "    server.sendmail('youremail@gmail.com', to, content)\n",
        "    server.close()\n",
        "\n",
        "if __name__ == \"__main__\":\n",
        "    wishMe()\n",
        "    while True:\n",
        "    # if 1:\n",
        "        query = takeCommand().lower()\n",
        "\n",
        "        # Logic for executing tasks based on query\n",
        "        if 'wikipedia' in query:\n",
        "            speak('Searching Wikipedia...')\n",
        "            query = query.replace(\"wikipedia\", \"\")\n",
        "            results = wikipedia.summary(query, sentences=2)\n",
        "            speak(\"According to Wikipedia\")\n",
        "            print(results)\n",
        "            speak(results)\n",
        "\n",
        "        elif 'open youtube' in query:\n",
        "            webbrowser.open(\"youtube.com\")\n",
        "\n",
        "        elif 'open google' in query:\n",
        "            webbrowser.open(\"google.com\")\n",
        "\n",
        "        elif 'open stackoverflow' in query:\n",
        "            webbrowser.open(\"stackoverflow.com\")\n",
        "\n",
        "\n",
        "        elif 'play music' in query:\n",
        "            music_dir = 'D:\\\\Non Critical\\\\songs\\\\Favorite Songs2'\n",
        "            songs = os.listdir(music_dir)\n",
        "            print(songs)\n",
        "            os.startfile(os.path.join(music_dir, songs[0]))\n",
        "\n",
        "        elif 'the time' in query:\n",
        "            strTime = datetime.datetime.now().strftime(\"%H:%M:%S\")\n",
        "            speak(f\"Sir, the time is {strTime}\")\n",
        "\n",
        "        elif 'open code' in query:\n",
        "            codePath = \"C:\\\\Users\\\\Haris\\\\AppData\\\\Local\\\\Programs\\\\Microsoft VS Code\\\\Code.exe\"\n",
        "            os.startfile(codePath)\n",
        "\n",
        "        elif 'email to harry' in query:\n",
        "            try:\n",
        "                speak(\"What should I say?\")\n",
        "                content = takeCommand()\n",
        "                to = \"yourEmail@gmail.com\"\n",
        "                sendEmail(to, content)\n",
        "                speak(\"Email has been sent!\")\n",
        "            except Exception as e:\n",
        "                print(e)\n",
        "                speak(\"Sorry my friend harry bhai. I am not able to send this email\")\n"
      ]
    }
  ]
}